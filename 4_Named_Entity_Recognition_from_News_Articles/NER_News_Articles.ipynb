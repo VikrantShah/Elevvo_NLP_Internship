{
 "cells": [
  {
   "cell_type": "markdown",
   "id": "789c947d",
   "metadata": {},
   "source": [
    "# Named Entity Recognition (NER) from News Articles"
   ]
  },
  {
   "cell_type": "code",
   "execution_count": 38,
   "id": "4c2d04d0",
   "metadata": {},
   "outputs": [],
   "source": [
    "import os\n",
    "import re\n",
    "from collections import Counter\n",
    "from pathlib import Path\n",
    "import random\n",
    "\n",
    "import numpy as np\n",
    "import matplotlib.pyplot as plt\n",
    "import seaborn as sns\n",
    "\n",
    "import spacy\n",
    "from spacy import displacy\n",
    "from spacy.language import Language\n",
    "from spacy.tokens import Span\n",
    "\n",
    "from seqeval.metrics import classification_report, f1_score"
   ]
  },
  {
   "cell_type": "code",
   "execution_count": 2,
   "id": "11149fce",
   "metadata": {},
   "outputs": [
    {
     "name": "stdout",
     "output_type": "stream",
     "text": [
      "Data Folder :  C:\\Elevvo_NLP_Internship\\4_Named_Entity_Recognition_from_News_Articles\\data\n",
      "Plots will be saved to :  C:\\Elevvo_NLP_Internship\\4_Named_Entity_Recognition_from_News_Articles\\plots\n"
     ]
    }
   ],
   "source": [
    "# Creating folders that we are going to use\n",
    "from pathlib import Path\n",
    "\n",
    "DATA_DIR = Path(\"data\")\n",
    "PLOTS_DIR = Path(\"plots\")\n",
    "\n",
    "PLOTS_DIR.mkdir(parents = True, exist_ok = True)\n",
    "\n",
    "print(\"Data Folder : \", DATA_DIR.resolve())\n",
    "print(\"Plots will be saved to : \", PLOTS_DIR.resolve())"
   ]
  },
  {
   "cell_type": "code",
   "execution_count": 32,
   "id": "550c93b0",
   "metadata": {},
   "outputs": [],
   "source": [
    "SEED = 42\n",
    "random.seed(SEED)"
   ]
  },
  {
   "cell_type": "markdown",
   "id": "9a31f744",
   "metadata": {},
   "source": [
    "## Loading the CoNLL-2003 (English) dataset (<a href=\"https://www.kaggle.com/datasets/alaakhaled/conll003-englishversion?select=metadata\">link</a>)"
   ]
  },
  {
   "cell_type": "code",
   "execution_count": 3,
   "id": "3fff2747",
   "metadata": {},
   "outputs": [],
   "source": [
    "train_path = DATA_DIR / \"train.txt\"\n",
    "valid_path = DATA_DIR / \"valid.txt\"\n",
    "test_path  = DATA_DIR / \"test.txt\""
   ]
  },
  {
   "cell_type": "code",
   "execution_count": 4,
   "id": "f894ffee",
   "metadata": {},
   "outputs": [],
   "source": [
    "# Function to read CoNLL files\n",
    "def read_conll(file_path):\n",
    "    sentences, tags = [], []\n",
    "    cur_tokens, cur_tags = [], []\n",
    "\n",
    "    with open(file_path, \"r\", encoding=\"utf8\") as f:\n",
    "        for raw_line in f:\n",
    "            line = raw_line.strip()\n",
    "            \n",
    "            # Blank line is end of sentence\n",
    "            if not line:\n",
    "                if cur_tokens: # if we actually collected tokens\n",
    "                    sentences.append(cur_tokens) # save the sentence\n",
    "                    tags.append(cur_tags) # save tags\n",
    "                    cur_tokens, cur_tags = [], [] # reset for next sentence\n",
    "                continue\n",
    "\n",
    "            # DOCSTRAT lines - we will skip this entirly as they are not real tokens\n",
    "            if line.startswith(\"-DOCSTART-\"):\n",
    "                # also end of any sentence in progess\n",
    "                if cur_tokens: # if we actually collected tokens\n",
    "                    sentences.append(cur_tokens) # save the sentence\n",
    "                    tags.append(cur_tags) # save tags\n",
    "                    cur_tokens, cur_tags = [], [] # reset for next sentence\n",
    "                continue\n",
    "\n",
    "            # Normal token line\n",
    "            # CoNLL columns are typically - token, POS, chunk, NER (we only need token and NER)\n",
    "            parts = line.split()\n",
    "\n",
    "            # check some lines can be malformed; skip if too short\n",
    "            if len(parts) < 4:\n",
    "                print(f\"Skipping malformed line in {file_path!r}: {line!r}\")\n",
    "                continue\n",
    "\n",
    "            token = parts[0] # 1st column is token\n",
    "            ner_tag = parts[-1] # last column is ner tag\n",
    "\n",
    "            cur_tokens.append(token)\n",
    "            cur_tags.append(ner_tag)\n",
    "\n",
    "        # Catching any sentence that wasn;t closed by a blank line at EOF\n",
    "        if cur_tokens: # if we actually collected tokens\n",
    "            sentences.append(cur_tokens) # save the sentence\n",
    "            tags.append(cur_tags) # save tags\n",
    "        return sentences, tags"
   ]
  },
  {
   "cell_type": "code",
   "execution_count": 5,
   "id": "0a025cc2",
   "metadata": {},
   "outputs": [],
   "source": [
    "# Load all datasets\n",
    "train_sents, train_tags = read_conll(train_path)\n",
    "val_sents,   val_tags   = read_conll(valid_path)\n",
    "test_sents,  test_tags  = read_conll(test_path)"
   ]
  },
  {
   "cell_type": "code",
   "execution_count": 6,
   "id": "669168e6",
   "metadata": {},
   "outputs": [
    {
     "name": "stdout",
     "output_type": "stream",
     "text": [
      "Train sentences: 14041\n",
      "Valid sentences: 3250\n",
      "Test sentences : 3453\n"
     ]
    }
   ],
   "source": [
    "# Displaying sizes\n",
    "print(\"Train sentences:\", len(train_sents))\n",
    "print(\"Valid sentences:\", len(val_sents))\n",
    "print(\"Test sentences :\", len(test_sents))"
   ]
  },
  {
   "cell_type": "code",
   "execution_count": 7,
   "id": "0a4b73fd",
   "metadata": {},
   "outputs": [
    {
     "name": "stdout",
     "output_type": "stream",
     "text": [
      "Train mismatches: 0\n",
      "Valid mismatches: 0\n",
      "Test  mismatches: 0\n"
     ]
    }
   ],
   "source": [
    "# Each sentence must have the same number of tokens and tags\n",
    "def count_mismatches(sents, tags):\n",
    "    return sum(1 for s, t in zip(sents, tags) if len(s) != len(t))\n",
    "\n",
    "print(\"Train mismatches:\", count_mismatches(train_sents, train_tags))\n",
    "print(\"Valid mismatches:\", count_mismatches(val_sents, val_tags))\n",
    "print(\"Test  mismatches:\", count_mismatches(test_sents,  test_tags))"
   ]
  },
  {
   "cell_type": "code",
   "execution_count": 8,
   "id": "4f7fed2f",
   "metadata": {},
   "outputs": [
    {
     "name": "stdout",
     "output_type": "stream",
     "text": [
      "Sample tokens: ['EU', 'rejects', 'German', 'call', 'to', 'boycott', 'British', 'lamb', '.']\n",
      "Sample tags  : ['B-ORG', 'O', 'B-MISC', 'O', 'O', 'O', 'B-MISC', 'O', 'O']\n"
     ]
    }
   ],
   "source": [
    "# Displaying one sentence and its tags\n",
    "idx = 0  \n",
    "print(\"Sample tokens:\", train_sents[idx][:20])\n",
    "print(\"Sample tags  :\", train_tags[idx][:20])"
   ]
  },
  {
   "cell_type": "markdown",
   "id": "8ede21b1",
   "metadata": {},
   "source": [
    "## Token to char alignment and prediction conversion"
   ]
  },
  {
   "cell_type": "code",
   "execution_count": 9,
   "id": "a8837248",
   "metadata": {},
   "outputs": [],
   "source": [
    "def token_char_offsets(tokens):\n",
    "    text = \" \".join(tokens)\n",
    "    offsets = []\n",
    "    i = 0  # search start position\n",
    "    for tok in tokens:\n",
    "        start = text.find(tok, i)\n",
    "        end   = start + len(tok)\n",
    "        offsets.append((start, end))\n",
    "        i = end  # move search window forward\n",
    "    return text, offsets"
   ]
  },
  {
   "cell_type": "code",
   "execution_count": 10,
   "id": "762a7078",
   "metadata": {},
   "outputs": [],
   "source": [
    "def spacy_doc_to_bio(doc, tokens):\n",
    "    _, offsets = token_char_offsets(tokens)\n",
    "    tags = [\"O\"] * len(tokens)\n",
    "\n",
    "    for ent in doc.ents:\n",
    "        first = True\n",
    "        for i, (a, b) in enumerate(offsets):\n",
    "            # token is fully inside ent span\n",
    "            if a >= ent.start_char and b <= ent.end_char:\n",
    "                tags[i] = (\"B-\" if first else \"I-\") + ent.label_\n",
    "                first = False\n",
    "    return tags"
   ]
  },
  {
   "cell_type": "code",
   "execution_count": 11,
   "id": "ff98e6ab",
   "metadata": {},
   "outputs": [],
   "source": [
    "def predict_bio(nlp: Language, sentences):\n",
    "    preds = []\n",
    "    # Process sentence by sentence (small batches keep it simple)\n",
    "    for tokens in sentences:\n",
    "        text = \" \".join(tokens)\n",
    "        doc  = nlp(text)\n",
    "        pred_tags = spacy_doc_to_bio(doc, tokens)\n",
    "        preds.append(pred_tags)\n",
    "    return preds"
   ]
  },
  {
   "cell_type": "code",
   "execution_count": 12,
   "id": "f738df99",
   "metadata": {},
   "outputs": [],
   "source": [
    "def evaluate_model(nlp_name, sentences, gold_tags):\n",
    "    print(f\"\\nLoading model : {nlp_name}\")\n",
    "    nlp = spacy.load(nlp_name)\n",
    "\n",
    "    print(\"Predicting....\")\n",
    "    pred_tags = predict_bio(nlp, sentences)\n",
    "\n",
    "    print(\"\\nSeqeval classification report (per entity type) :\")\n",
    "    print(classification_report(gold_tags, pred_tags, digits=3))\n",
    "\n",
    "    f1 = f1_score(gold_tags, pred_tags)\n",
    "    print(f\"Overall micro F1 : {f1:.3f}\")\n",
    "    return pred_tags, f1"
   ]
  },
  {
   "cell_type": "code",
   "execution_count": 13,
   "id": "a653f310",
   "metadata": {},
   "outputs": [],
   "source": [
    "def extract_f1_per_label(report_text):\n",
    "    f1_dict = {}\n",
    "    for line in report_text.splitlines():\n",
    "        parts = line.strip().split()\n",
    "        # We are expecting label, precision, recall, f1, support\n",
    "        if len(parts) == 5 and parts[0].isalpha():\n",
    "            label, p, r, f1, sup = parts\n",
    "            try:\n",
    "                f1_val = float(f1)\n",
    "                f1_dict[label] = f1_val\n",
    "            except:\n",
    "                pass\n",
    "    return f1_dict"
   ]
  },
  {
   "cell_type": "code",
   "execution_count": 14,
   "id": "358cc374",
   "metadata": {},
   "outputs": [],
   "source": [
    "def plot_f1_bars(\n",
    "    f1_dict: dict,\n",
    "    title: str,\n",
    "    save_path: Path,\n",
    "    filter_labels=(\"PER\",\"ORG\",\"LOC\",\"MISC\"),\n",
    "    sort_desc=True,\n",
    "    annotate=True,\n",
    "    figsize=(8,5),\n",
    "):\n",
    "    \n",
    "    # filter to the labels we care about (PER/ORG/LOC/MISC for CoNLL-2003)\n",
    "    if filter_labels:\n",
    "        labels = [lab for lab in filter_labels if lab in f1_dict]\n",
    "    else:\n",
    "        labels = list(f1_dict.keys())\n",
    "\n",
    "    values = [float(f1_dict[l]) for l in labels]\n",
    "\n",
    "    # sort by value\n",
    "    if sort_desc and len(labels) > 1:\n",
    "        pairs = sorted(zip(labels, values), key=lambda x: x[1], reverse=True)\n",
    "        labels, values = zip(*pairs)\n",
    "\n",
    "    # plot\n",
    "    plt.figure(figsize=figsize)\n",
    "    plt.bar(labels, values)\n",
    "    plt.ylim(0, 1.0)\n",
    "    plt.title(title)\n",
    "    plt.xlabel(\"Entity type\")\n",
    "    plt.ylabel(\"F1 score\")\n",
    "    plt.grid(axis=\"y\", linestyle=\"--\", alpha=0.4)\n",
    "    plt.xticks(rotation=20)\n",
    "\n",
    "    # annotate bar tops\n",
    "    if annotate:\n",
    "        for x, v in enumerate(values):\n",
    "            plt.text(x, v + 0.02, f\"{v:.2f}\", ha=\"center\", va=\"bottom\", fontsize=10)\n",
    "\n",
    "    plt.tight_layout()\n",
    "    plt.savefig(save_path, dpi=200, bbox_inches=\"tight\")\n",
    "    plt.show()\n",
    "    print(f\"Saved plot to : {save_path}\")"
   ]
  },
  {
   "cell_type": "markdown",
   "id": "c500fd34",
   "metadata": {},
   "source": [
    "## Baseline 1 : en_core_web_sm on test set"
   ]
  },
  {
   "cell_type": "code",
   "execution_count": 15,
   "id": "2a9a239a",
   "metadata": {},
   "outputs": [
    {
     "name": "stdout",
     "output_type": "stream",
     "text": [
      "\n",
      "Loading model : en_core_web_sm\n",
      "Predicting....\n",
      "\n",
      "Seqeval classification report (per entity type) :\n"
     ]
    },
    {
     "name": "stderr",
     "output_type": "stream",
     "text": [
      "c:\\Elevvo_NLP_Internship\\venv\\Lib\\site-packages\\seqeval\\metrics\\v1.py:57: UndefinedMetricWarning: Precision and F-score are ill-defined and being set to 0.0 in labels with no predicted samples. Use `zero_division` parameter to control this behavior.\n",
      "  _warn_prf(average, modifier, msg_start, len(result))\n",
      "c:\\Elevvo_NLP_Internship\\venv\\Lib\\site-packages\\seqeval\\metrics\\v1.py:57: UndefinedMetricWarning: Recall and F-score are ill-defined and being set to 0.0 in labels with no true samples. Use `zero_division` parameter to control this behavior.\n",
      "  _warn_prf(average, modifier, msg_start, len(result))\n"
     ]
    },
    {
     "name": "stdout",
     "output_type": "stream",
     "text": [
      "              precision    recall  f1-score   support\n",
      "\n",
      "    CARDINAL      0.000     0.000     0.000         0\n",
      "        DATE      0.000     0.000     0.000         0\n",
      "       EVENT      0.000     0.000     0.000         0\n",
      "         FAC      0.000     0.000     0.000         0\n",
      "         GPE      0.000     0.000     0.000         0\n",
      "    LANGUAGE      0.000     0.000     0.000         0\n",
      "         LAW      0.000     0.000     0.000         0\n",
      "         LOC      0.494     0.023     0.044      1668\n",
      "        MISC      0.000     0.000     0.000       702\n",
      "       MONEY      0.000     0.000     0.000         0\n",
      "        NORP      0.000     0.000     0.000         0\n",
      "     ORDINAL      0.000     0.000     0.000         0\n",
      "         ORG      0.445     0.304     0.361      1661\n",
      "         PER      0.000     0.000     0.000      1617\n",
      "     PERCENT      0.000     0.000     0.000         0\n",
      "      PERSON      0.000     0.000     0.000         0\n",
      "     PRODUCT      0.000     0.000     0.000         0\n",
      "    QUANTITY      0.000     0.000     0.000         0\n",
      "        TIME      0.000     0.000     0.000         0\n",
      " WORK_OF_ART      0.000     0.000     0.000         0\n",
      "\n",
      "   micro avg      0.065     0.096     0.078      5648\n",
      "   macro avg      0.047     0.016     0.020      5648\n",
      "weighted avg      0.277     0.096     0.119      5648\n",
      "\n",
      "Overall micro F1 : 0.078\n"
     ]
    }
   ],
   "source": [
    "# Evaluating the small (CPU-friendly) model\n",
    "pred_sm, f1_sm = evaluate_model(\"en_core_web_sm\", test_sents, test_tags)"
   ]
  },
  {
   "cell_type": "code",
   "execution_count": 16,
   "id": "5b37c006",
   "metadata": {},
   "outputs": [],
   "source": [
    "# Making and saving a per-entity F1 bar chart for the small model.\n",
    "report_text_sm = classification_report(test_tags, pred_sm, digits=3)\n",
    "f1_by_label_sm = extract_f1_per_label(report_text_sm)"
   ]
  },
  {
   "cell_type": "code",
   "execution_count": 17,
   "id": "81a46015",
   "metadata": {},
   "outputs": [
    {
     "data": {
      "image/png": "[encoded data removed]",
      "text/plain": [
       "<Figure size 800x500 with 1 Axes>"
      ]
     },
     "metadata": {},
     "output_type": "display_data"
    },
    {
     "name": "stdout",
     "output_type": "stream",
     "text": [
      "Saved plot to : plots\\spacy_sm_f1_by_label.jpg\n"
     ]
    }
   ],
   "source": [
    "plot_path_sm = PLOTS_DIR / \"spacy_sm_f1_by_label.jpg\" \n",
    "plot_f1_bars(f1_by_label_sm, \"spaCy en_core_web_sm : F1 by Entity\", plot_path_sm)"
   ]
  },
  {
   "cell_type": "markdown",
   "id": "114c9552",
   "metadata": {},
   "source": [
    "## Baseline 2 : en_core_web_trf on test set"
   ]
  },
  {
   "cell_type": "code",
   "execution_count": 18,
   "id": "6313a11e",
   "metadata": {},
   "outputs": [
    {
     "name": "stdout",
     "output_type": "stream",
     "text": [
      "\n",
      "Loading model : en_core_web_trf\n",
      "Predicting....\n"
     ]
    },
    {
     "name": "stderr",
     "output_type": "stream",
     "text": [
      "c:\\Elevvo_NLP_Internship\\venv\\Lib\\site-packages\\thinc\\shims\\pytorch.py:114: FutureWarning: `torch.cuda.amp.autocast(args...)` is deprecated. Please use `torch.amp.autocast('cuda', args...)` instead.\n",
      "  with torch.cuda.amp.autocast(self._mixed_precision):\n"
     ]
    },
    {
     "name": "stdout",
     "output_type": "stream",
     "text": [
      "\n",
      "Seqeval classification report (per entity type) :\n"
     ]
    },
    {
     "name": "stderr",
     "output_type": "stream",
     "text": [
      "c:\\Elevvo_NLP_Internship\\venv\\Lib\\site-packages\\seqeval\\metrics\\v1.py:57: UndefinedMetricWarning: Precision and F-score are ill-defined and being set to 0.0 in labels with no predicted samples. Use `zero_division` parameter to control this behavior.\n",
      "  _warn_prf(average, modifier, msg_start, len(result))\n",
      "c:\\Elevvo_NLP_Internship\\venv\\Lib\\site-packages\\seqeval\\metrics\\v1.py:57: UndefinedMetricWarning: Recall and F-score are ill-defined and being set to 0.0 in labels with no true samples. Use `zero_division` parameter to control this behavior.\n",
      "  _warn_prf(average, modifier, msg_start, len(result))\n"
     ]
    },
    {
     "name": "stdout",
     "output_type": "stream",
     "text": [
      "              precision    recall  f1-score   support\n",
      "\n",
      "    CARDINAL      0.000     0.000     0.000         0\n",
      "        DATE      0.000     0.000     0.000         0\n",
      "       EVENT      0.000     0.000     0.000         0\n",
      "         FAC      0.000     0.000     0.000         0\n",
      "         GPE      0.000     0.000     0.000         0\n",
      "    LANGUAGE      0.000     0.000     0.000         0\n",
      "         LAW      0.000     0.000     0.000         0\n",
      "         LOC      0.600     0.018     0.035      1668\n",
      "        MISC      0.000     0.000     0.000       702\n",
      "       MONEY      0.000     0.000     0.000         0\n",
      "        NORP      0.000     0.000     0.000         0\n",
      "     ORDINAL      0.000     0.000     0.000         0\n",
      "         ORG      0.767     0.473     0.585      1661\n",
      "         PER      0.000     0.000     0.000      1617\n",
      "     PERCENT      0.000     0.000     0.000         0\n",
      "      PERSON      0.000     0.000     0.000         0\n",
      "     PRODUCT      0.000     0.000     0.000         0\n",
      "    QUANTITY      0.000     0.000     0.000         0\n",
      "        TIME      0.000     0.000     0.000         0\n",
      " WORK_OF_ART      0.000     0.000     0.000         0\n",
      "\n",
      "   micro avg      0.091     0.144     0.111      5648\n",
      "   macro avg      0.068     0.025     0.031      5648\n",
      "weighted avg      0.403     0.144     0.182      5648\n",
      "\n",
      "Overall micro F1 : 0.111\n"
     ]
    }
   ],
   "source": [
    "# Evaluating transformer model (more accurate; slower on CPU)\n",
    "pred_trf, f1_trf = evaluate_model(\"en_core_web_trf\", test_sents, test_tags)"
   ]
  },
  {
   "cell_type": "code",
   "execution_count": 19,
   "id": "9b75a581",
   "metadata": {},
   "outputs": [],
   "source": [
    "report_text_trf = classification_report(test_tags, pred_trf, digits=3)\n",
    "f1_by_label_trf = extract_f1_per_label(report_text_trf)"
   ]
  },
  {
   "cell_type": "code",
   "execution_count": 20,
   "id": "6e6a5742",
   "metadata": {},
   "outputs": [
    {
     "data": {
      "image/png": "[encoded data removed]",
      "text/plain": [
       "<Figure size 800x500 with 1 Axes>"
      ]
     },
     "metadata": {},
     "output_type": "display_data"
    },
    {
     "name": "stdout",
     "output_type": "stream",
     "text": [
      "Saved plot to : plots\\spacy_trf_f1_by_label.jpg\n"
     ]
    }
   ],
   "source": [
    "plot_path_trf = PLOTS_DIR / \"spacy_trf_f1_by_label.jpg\"\n",
    "plot_f1_bars(f1_by_label_trf, \"spaCy en_core_web_trf : F1 by Entity\", plot_path_trf)"
   ]
  },
  {
   "cell_type": "code",
   "execution_count": 21,
   "id": "31581964",
   "metadata": {},
   "outputs": [
    {
     "name": "stdout",
     "output_type": "stream",
     "text": [
      "{'en_core_web_sm': 0.078, 'en_core_web_trf': 0.111}\n"
     ]
    }
   ],
   "source": [
    "# side-by-side comparison of overall micro F1\n",
    "print({\n",
    "    \"en_core_web_sm\": round(f1_sm, 3),\n",
    "    \"en_core_web_trf\": round(f1_trf, 3)\n",
    "})"
   ]
  },
  {
   "cell_type": "markdown",
   "id": "a6364bb8",
   "metadata": {},
   "source": [
    "## Rule-based booster : EntityRuler"
   ]
  },
  {
   "cell_type": "code",
   "execution_count": 22,
   "id": "3aa21dec",
   "metadata": {},
   "outputs": [],
   "source": [
    "def top_gazetteer(sentences, tags, label_suffix=\"PER\", k=1000):\n",
    "    words = []\n",
    "    for toks, ys in zip(sentences, tags):\n",
    "        for w, y in zip(toks, ys):\n",
    "            if y.endswith(label_suffix) and y[0] in (\"B\", \"I\"):\n",
    "                if w[:1].isupper():\n",
    "                    words.append(w)\n",
    "    # counting frequency\n",
    "    return [w for w, _ in Counter(words).most_common(k)]"
   ]
  },
  {
   "cell_type": "code",
   "execution_count": 23,
   "id": "431b79ca",
   "metadata": {},
   "outputs": [
    {
     "data": {
      "text/plain": [
       "(1500, 1500, 1449)"
      ]
     },
     "execution_count": 23,
     "metadata": {},
     "output_type": "execute_result"
    }
   ],
   "source": [
    "# Building small gazetteers from training split\n",
    "top_per = top_gazetteer(train_sents, train_tags, \"PER\", 1500)\n",
    "top_org = top_gazetteer(train_sents, train_tags, \"ORG\", 1500)\n",
    "top_loc = top_gazetteer(train_sents, train_tags, \"LOC\", 1500)\n",
    "\n",
    "len(top_per), len(top_org), len(top_loc)"
   ]
  },
  {
   "cell_type": "code",
   "execution_count": 24,
   "id": "65eb805c",
   "metadata": {},
   "outputs": [],
   "source": [
    "def make_hybrid_pipeline(base_model=\"en_core_web_sm\", per=(), org=(), loc=()):\n",
    "    nlp = spacy.load(base_model)\n",
    "    # Putting ruler before 'ner' so its entities become strong hints\n",
    "    ruler = nlp.add_pipe(\"entity_ruler\", before=\"ner\")\n",
    "    patterns = []\n",
    "    # PERSON in spaCy is \"PERSON\", not \"PER\"\n",
    "    patterns += [{\"label\": \"PERSON\", \"pattern\": w} for w in per]\n",
    "    patterns += [{\"label\": \"ORG\",    \"pattern\": w} for w in org]\n",
    "    patterns += [{\"label\": \"LOC\",    \"pattern\": w} for w in loc]\n",
    "    ruler.add_patterns(patterns)\n",
    "    return nlp"
   ]
  },
  {
   "cell_type": "code",
   "execution_count": 25,
   "id": "79754593",
   "metadata": {},
   "outputs": [],
   "source": [
    "# Building hybrid model on top of small baseline\n",
    "nlp_hybrid = make_hybrid_pipeline(\"en_core_web_sm\", per=top_per, org=top_org, loc=top_loc)"
   ]
  },
  {
   "cell_type": "code",
   "execution_count": 26,
   "id": "865482c8",
   "metadata": {},
   "outputs": [
    {
     "name": "stderr",
     "output_type": "stream",
     "text": [
      "c:\\Elevvo_NLP_Internship\\venv\\Lib\\site-packages\\seqeval\\metrics\\v1.py:57: UndefinedMetricWarning: Precision and F-score are ill-defined and being set to 0.0 in labels with no predicted samples. Use `zero_division` parameter to control this behavior.\n",
      "  _warn_prf(average, modifier, msg_start, len(result))\n",
      "c:\\Elevvo_NLP_Internship\\venv\\Lib\\site-packages\\seqeval\\metrics\\v1.py:57: UndefinedMetricWarning: Recall and F-score are ill-defined and being set to 0.0 in labels with no true samples. Use `zero_division` parameter to control this behavior.\n",
      "  _warn_prf(average, modifier, msg_start, len(result))\n"
     ]
    },
    {
     "name": "stdout",
     "output_type": "stream",
     "text": [
      "              precision    recall  f1-score   support\n",
      "\n",
      "    CARDINAL      0.000     0.000     0.000         0\n",
      "        DATE      0.000     0.000     0.000         0\n",
      "       EVENT      0.000     0.000     0.000         0\n",
      "         FAC      0.000     0.000     0.000         0\n",
      "         GPE      0.000     0.000     0.000         0\n",
      "    LANGUAGE      0.000     0.000     0.000         0\n",
      "         LAW      0.000     0.000     0.000         0\n",
      "         LOC      0.480     0.592     0.530      1668\n",
      "        MISC      0.000     0.000     0.000       702\n",
      "       MONEY      0.000     0.000     0.000         0\n",
      "        NORP      0.000     0.000     0.000         0\n",
      "     ORDINAL      0.000     0.000     0.000         0\n",
      "         ORG      0.254     0.382     0.305      1661\n",
      "         PER      0.000     0.000     0.000      1617\n",
      "     PERCENT      0.000     0.000     0.000         0\n",
      "      PERSON      0.000     0.000     0.000         0\n",
      "     PRODUCT      0.000     0.000     0.000         0\n",
      "    QUANTITY      0.000     0.000     0.000         0\n",
      "        TIME      0.000     0.000     0.000         0\n",
      " WORK_OF_ART      0.000     0.000     0.000         0\n",
      "\n",
      "   micro avg      0.157     0.287     0.203      5648\n",
      "   macro avg      0.037     0.049     0.042      5648\n",
      "weighted avg      0.217     0.287     0.246      5648\n",
      "\n",
      "Hybrid (sm + ruler) F1 :  0.203\n"
     ]
    }
   ],
   "source": [
    "# Evaluating hybrid model\n",
    "pred_hybrid = predict_bio(nlp_hybrid, test_sents)\n",
    "print(classification_report(test_tags, pred_hybrid, digits=3))\n",
    "f1_hybrid = f1_score(test_tags, pred_hybrid)\n",
    "print(\"Hybrid (sm + ruler) F1 : \", round(f1_hybrid, 3))"
   ]
  },
  {
   "cell_type": "code",
   "execution_count": 27,
   "id": "81231356",
   "metadata": {},
   "outputs": [],
   "source": [
    "# Plotting per-entity F1 for the hybrid pipeline\n",
    "report_text_hybrid = classification_report(test_tags, pred_hybrid, digits=3)\n",
    "f1_by_label_hybrid = extract_f1_per_label(report_text_hybrid)"
   ]
  },
  {
   "cell_type": "code",
   "execution_count": 28,
   "id": "07a20c31",
   "metadata": {},
   "outputs": [
    {
     "data": {
      "image/png": "[encoded data removed]",
      "text/plain": [
       "<Figure size 800x500 with 1 Axes>"
      ]
     },
     "metadata": {},
     "output_type": "display_data"
    },
    {
     "name": "stdout",
     "output_type": "stream",
     "text": [
      "Saved plot to : plots\\spacy_sm_hybrid_f1_by_label.jpg\n"
     ]
    }
   ],
   "source": [
    "plot_path_hybrid = PLOTS_DIR / \"spacy_sm_hybrid_f1_by_label.jpg\"\n",
    "plot_f1_bars(f1_by_label_hybrid, \"Hybrid (sm + EntityRuler) : F1 by Entity\", plot_path_hybrid)"
   ]
  },
  {
   "cell_type": "code",
   "execution_count": 30,
   "id": "7d8ffabd",
   "metadata": {},
   "outputs": [
    {
     "data": {
      "text/plain": [
       "{'en_core_web_sm': 0.078,\n",
       " 'en_core_web_trf': 0.111,\n",
       " 'hybrid_sm_plus_ruler': 0.203}"
      ]
     },
     "execution_count": 30,
     "metadata": {},
     "output_type": "execute_result"
    }
   ],
   "source": [
    "# Comparing all\n",
    "summary = {\n",
    "    \"en_core_web_sm\": round(f1_sm, 3),\n",
    "    \"en_core_web_trf\": round(f1_trf, 3),\n",
    "    \"hybrid_sm_plus_ruler\": round(f1_hybrid, 3),\n",
    "}\n",
    "\n",
    "summary"
   ]
  },
  {
   "cell_type": "markdown",
   "id": "542f2ba3",
   "metadata": {},
   "source": [
    "## Visualizing extracted entities with displacy"
   ]
  },
  {
   "cell_type": "code",
   "execution_count": 33,
   "id": "28eafa6c",
   "metadata": {},
   "outputs": [
    {
     "name": "stdout",
     "output_type": "stream",
     "text": [
      "Visualization model :  en_core_web_trf\n"
     ]
    }
   ],
   "source": [
    "viz_model_name = \"en_core_web_trf\"\n",
    "nlp_viz = spacy.load(viz_model_name)\n",
    "print(\"Visualization model : \", viz_model_name)"
   ]
  },
  {
   "cell_type": "code",
   "execution_count": null,
   "id": "2b0d3efe",
   "metadata": {},
   "outputs": [],
   "source": [
    "def collect_examples(sents, k=5, max_tries=200):\n",
    "    examples = []\n",
    "    tries = 0\n",
    "    while len(examples) < k and tries < max_tries:\n",
    "        idx = random.randrange(len(sents))\n",
    "        text = \" \".join(sents[idx])\n",
    "        doc  = nlp_viz(text)\n",
    "        if len(doc.ents) > 0:        # keep only interesting ones\n",
    "            examples.append(doc)\n",
    "        tries += 1\n",
    "    return examples"
   ]
  },
  {
   "cell_type": "code",
   "execution_count": 42,
   "id": "dbdde7b1",
   "metadata": {},
   "outputs": [],
   "source": [
    "docs = collect_examples(test_sents, k=10)"
   ]
  },
  {
   "cell_type": "code",
   "execution_count": 43,
   "id": "a0b60361",
   "metadata": {},
   "outputs": [
    {
     "name": "stdout",
     "output_type": "stream",
     "text": [
      "Saved displacy visualization to : plots\\displacy_examples.html\n"
     ]
    }
   ],
   "source": [
    "viz_options = {\n",
    "    \"ents\": [\"PERSON\",\"ORG\",\"LOC\",\"MISC\"],  # only CoNLL types\n",
    "    \"fine_grained\": False\n",
    "}\n",
    "html = displacy.render(docs, style=\"ent\", options=viz_options, page=True, jupyter=False)\n",
    "\n",
    "out_path = PLOTS_DIR / \"displacy_examples.html\"\n",
    "with open(out_path, \"w\", encoding=\"utf-8\") as f:\n",
    "    f.write(html)\n",
    "\n",
    "print(f\"Saved displacy visualization to : {out_path}\")"
   ]
  },
  {
   "cell_type": "code",
   "execution_count": null,
   "id": "aaaa0cfa",
   "metadata": {},
   "outputs": [],
   "source": []
  }
 ],
 "metadata": {
  "kernelspec": {
   "display_name": "venv (3.12.4)",
   "language": "python",
   "name": "python3"
  },
  "language_info": {
   "codemirror_mode": {
    "name": "ipython",
    "version": 3
   },
   "file_extension": ".py",
   "mimetype": "text/x-python",
   "name": "python",
   "nbconvert_exporter": "python",
   "pygments_lexer": "ipython3",
   "version": "3.12.4"
  }
 },
 "nbformat": 4,
 "nbformat_minor": 5
}
